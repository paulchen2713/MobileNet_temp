{
 "cells": [
  {
   "cell_type": "code",
   "execution_count": 1,
   "metadata": {},
   "outputs": [],
   "source": [
    "# numpy.expand_dims(a, axis) testing\n",
    "import numpy as np"
   ]
  },
  {
   "cell_type": "code",
   "execution_count": 2,
   "metadata": {},
   "outputs": [
    {
     "data": {
      "text/plain": [
       "(2,)"
      ]
     },
     "execution_count": 2,
     "metadata": {},
     "output_type": "execute_result"
    }
   ],
   "source": [
    "x = np.array([1, 2])\n",
    "x.shape\n",
    "# x.shape (2,)"
   ]
  },
  {
   "cell_type": "code",
   "execution_count": 3,
   "metadata": {},
   "outputs": [
    {
     "data": {
      "text/plain": [
       "(1, 2)"
      ]
     },
     "execution_count": 3,
     "metadata": {},
     "output_type": "execute_result"
    }
   ],
   "source": [
    "y = np.expand_dims(x, axis=0)\n",
    "y.shape\n",
    "# y.shape (1, 2)\n",
    "print(y)\n",
    "# y [[1 2]]"
   ]
  },
  {
   "cell_type": "code",
   "execution_count": 5,
   "metadata": {},
   "outputs": [
    {
     "name": "stdout",
     "output_type": "stream",
     "text": [
      "[[1]\n",
      " [2]]\n",
      "(2, 1)\n"
     ]
    }
   ],
   "source": [
    "y = np.expand_dims(x, axis=1)\n",
    "print(y)\n",
    "# [[1]\n",
    "#  [2]]\n",
    "\n",
    "print(y.shape)\n",
    "# y.shape (2, 1)"
   ]
  },
  {
   "cell_type": "code",
   "execution_count": 6,
   "metadata": {},
   "outputs": [
    {
     "data": {
      "text/plain": [
       "(3, 2)"
      ]
     },
     "execution_count": 6,
     "metadata": {},
     "output_type": "execute_result"
    }
   ],
   "source": [
    "A = np.array([[1, 1], [2, 2], [3, 3]])\n",
    "A.shape\n",
    "# A.shape (3, 2)"
   ]
  },
  {
   "cell_type": "code",
   "execution_count": 9,
   "metadata": {},
   "outputs": [
    {
     "name": "stdout",
     "output_type": "stream",
     "text": [
      "[[1 2 3]\n",
      " [1 2 3]]\n",
      "(2, 3)\n"
     ]
    }
   ],
   "source": [
    "A = np.array([[1, 2, 3], [1, 2, 3]])\n",
    "print(A)\n",
    "# [[1 2 3]\n",
    "#  [1 2 3]]\n",
    "\n",
    "print(A.shape)\n",
    "# A.shape (2, 3)"
   ]
  },
  {
   "cell_type": "code",
   "execution_count": 10,
   "metadata": {},
   "outputs": [
    {
     "name": "stdout",
     "output_type": "stream",
     "text": [
      "[[[1 2 3]\n",
      "  [1 2 3]]]\n",
      "(1, 2, 3)\n"
     ]
    }
   ],
   "source": [
    "# 在第 “axis” 維 加一個維度出來 原先的 “維” 則推到右邊去 (https://www.zhihu.com/question/265545749)\n",
    "A0 = np.expand_dims(A, axis=0)\n",
    "print(A0)\n",
    "# [[[1 2 3]\n",
    "#   [1 2 3]]]\n",
    "\n",
    "print(A0.shape)\n",
    "# A0.shape"
   ]
  },
  {
   "cell_type": "code",
   "execution_count": 11,
   "metadata": {},
   "outputs": [
    {
     "name": "stdout",
     "output_type": "stream",
     "text": [
      "[[[1 2 3]]\n",
      "\n",
      " [[1 2 3]]]\n",
      "(2, 1, 3)\n"
     ]
    }
   ],
   "source": [
    "A1 = np.expand_dims(A, axis=1)\n",
    "print(A1)\n",
    "# [[[1 2 3]]\n",
    "\n",
    "#  [[1 2 3]]]\n",
    "\n",
    "print(A1.shape)\n",
    "# A1.shape "
   ]
  },
  {
   "cell_type": "code",
   "execution_count": 13,
   "metadata": {},
   "outputs": [
    {
     "name": "stdout",
     "output_type": "stream",
     "text": [
      "[[[1]\n",
      "  [2]\n",
      "  [3]]\n",
      "\n",
      " [[1]\n",
      "  [2]\n",
      "  [3]]]\n",
      "(2, 3, 1)\n"
     ]
    }
   ],
   "source": [
    "A2 = np.expand_dims(A, axis=2)\n",
    "print(A2)\n",
    "# [[[1]\n",
    "#   [2]\n",
    "#   [3]]\n",
    "\n",
    "#  [[1]\n",
    "#   [2]\n",
    "#   [3]]]\n",
    "\n",
    "print(A2.shape)\n",
    "# A2.shape (2, 3, 1)\n",
    "\n",
    "# A3 = np.expand_dims(A, axis=3)\n",
    "# AxisError: axis 3 is out of bounds for array of dimension 3"
   ]
  },
  {
   "cell_type": "code",
   "execution_count": null,
   "metadata": {},
   "outputs": [],
   "source": []
  }
 ],
 "metadata": {
  "kernelspec": {
   "display_name": "Python 3",
   "language": "python",
   "name": "python3"
  },
  "language_info": {
   "codemirror_mode": {
    "name": "ipython",
    "version": 3
   },
   "file_extension": ".py",
   "mimetype": "text/x-python",
   "name": "python",
   "nbconvert_exporter": "python",
   "pygments_lexer": "ipython3",
   "version": "3.7.9"
  }
 },
 "nbformat": 4,
 "nbformat_minor": 4
}
